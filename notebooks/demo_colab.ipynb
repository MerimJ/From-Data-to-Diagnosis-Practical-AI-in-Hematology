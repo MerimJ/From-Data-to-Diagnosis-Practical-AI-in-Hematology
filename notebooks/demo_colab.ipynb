{
 "cells": [
  {
   "cell_type": "markdown",
   "id": "b618641b",
   "metadata": {},
   "source": [
    "# 🧪 Hematology AI Demo (Google Colab)\n",
    "This notebook demonstrates how to use the hematology AI system to interpret blood test results using two GPT agents: one with retrieval (RAG) and one without."
   ]
  },
  {
   "cell_type": "code",
   "execution_count": null,
   "id": "22305320",
   "metadata": {},
   "outputs": [],
   "source": [
    "# ✅ Install dependencies (if running in Colab)\n",
    "!pip install pandas openpyxl\n",
    "\n",
    "# ⚠️ NOTE: If your repo includes more dependencies like GPT, transformers, etc., add them here.\n"
   ]
  },
  {
   "cell_type": "code",
   "execution_count": null,
   "id": "8d4208e5",
   "metadata": {},
   "outputs": [],
   "source": [
    "# Optional: Mount Google Drive (if accessing files from there)\n",
    "# from google.colab import drive\n",
    "# drive.mount('/content/drive')\n"
   ]
  },
  {
   "cell_type": "code",
   "execution_count": null,
   "id": "5fc3a06c",
   "metadata": {},
   "outputs": [],
   "source": [
    "import pandas as pd\n",
    "from google.colab import files\n",
    "\n",
    "# ⬆️ Upload a CSV lab file\n",
    "uploaded = files.upload()\n",
    "\n",
    "# Load uploaded CSV\n",
    "for filename in uploaded.keys():\n",
    "    lab_df = pd.read_csv(filename)\n",
    "    print(f\"✅ Loaded: {filename}\")\n",
    "    display(lab_df.head())\n"
   ]
  },
  {
   "cell_type": "code",
   "execution_count": null,
   "id": "5d04615d",
   "metadata": {},
   "outputs": [],
   "source": [
    "# 🧠 Simulate GPT model output\n",
    "def analyze_labs(df):\n",
    "    print(\"📊 Analyzing lab values...\")\n",
    "    return {\n",
    "        \"Diagnosis\": \"Probable Iron Deficiency Anemia\",\n",
    "        \"Confidence\": \"87%\",\n",
    "        \"Comment\": \"Elevated RDW suggests active erythropoiesis. Recommend Ferritin test.\"\n",
    "    }\n",
    "\n",
    "results = analyze_labs(lab_df)\n",
    "for k, v in results.items():\n",
    "    print(f\"{k}: {v}\")\n"
   ]
  },
  {
   "cell_type": "code",
   "execution_count": null,
   "id": "1c89010d",
   "metadata": {},
   "outputs": [],
   "source": [
    "# ⬆️ Upload LICERT score files\n",
    "review_uploads = files.upload()\n",
    "\n",
    "review_scores = {}\n",
    "for filename in review_uploads.keys():\n",
    "    df = pd.read_excel(filename)\n",
    "    print(f\"📊 {filename} summary:\")\n",
    "    display(df.describe())\n",
    "    review_scores[filename] = df\n"
   ]
  },
  {
   "cell_type": "code",
   "execution_count": null,
   "id": "6bf123b6",
   "metadata": {},
   "outputs": [],
   "source": [
    "# 💾 Save a basic report\n",
    "with open(\"hematology_report.txt\", \"w\") as f:\n",
    "    for k, v in results.items():\n",
    "        f.write(f\"{k}: {v}\\n\")\n",
    "\n",
    "files.download(\"hematology_report.txt\")\n"
   ]
  }
 ],
 "metadata": {},
 "nbformat": 4,
 "nbformat_minor": 5
}
